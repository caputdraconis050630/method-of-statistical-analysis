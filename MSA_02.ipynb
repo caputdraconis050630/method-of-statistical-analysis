{
  "nbformat": 4,
  "nbformat_minor": 0,
  "metadata": {
    "colab": {
      "provenance": []
    },
    "kernelspec": {
      "name": "python3",
      "display_name": "Python 3"
    },
    "language_info": {
      "name": "python"
    }
  },
  "cells": [
    {
      "cell_type": "markdown",
      "source": [
        "- 통계분석방법 3주차 실습\n",
        "- 작성자 : 컴퓨터공학과 12201830 김건탁"
      ],
      "metadata": {
        "id": "5qyXEqx8SjMe"
      }
    },
    {
      "cell_type": "code",
      "execution_count": null,
      "metadata": {
        "id": "hEz_AJSw8ilv"
      },
      "outputs": [],
      "source": [
        "import numpy as np # numpy 라이브러리 import"
      ]
    },
    {
      "cell_type": "code",
      "source": [
        "# 1\n",
        "# rand 는 0부터 1 사이의 균일 분포에서 난수 matrix arrray 생성\n",
        "# np.random.rand(2, 5) => 2x5 의 표준 정규분포 난수를 생성한다.\n",
        "rand_1 = np.random.rand(10)\n",
        "print(rand_1)\n",
        "\n",
        "# randint는 균일 분포의 정수 난수 1개를 생성한다\n",
        "# randn은 가우시안 표준 정규 분포에서 난수 matrix array를 생성한다."
      ],
      "metadata": {
        "colab": {
          "base_uri": "https://localhost:8080/"
        },
        "id": "3j8ouN7fTNYF",
        "outputId": "3ad69cd3-ebb4-4dd1-cc84-f94a905e37e9"
      },
      "execution_count": null,
      "outputs": [
        {
          "output_type": "stream",
          "name": "stdout",
          "text": [
            "[0.24812074 0.60292926 0.12502298 0.58031298 0.60752473 0.47652325\n",
            " 0.10031915 0.95811186 0.20754503 0.38614066]\n"
          ]
        }
      ]
    },
    {
      "cell_type": "code",
      "source": [
        "# 2\n",
        "rand_2 = np.random.randint(1, 1000, (2, 5)) # 1~999 사이의 난수를 2x5 행렬 형태로 생성\n",
        "print(rand_2)"
      ],
      "metadata": {
        "colab": {
          "base_uri": "https://localhost:8080/"
        },
        "id": "P5asKllETx-1",
        "outputId": "b0600f6f-34e2-4052-f0f1-66684f3c788c"
      },
      "execution_count": null,
      "outputs": [
        {
          "output_type": "stream",
          "name": "stdout",
          "text": [
            "[[335 111 192 911 964]\n",
            " [486 594   4 812 702]]\n"
          ]
        }
      ]
    },
    {
      "cell_type": "code",
      "source": [
        "# 2-1\n",
        "print(\"Total Sum :\", rand_2.sum())\n",
        "print(\"Column Sum : \", rand_2.sum(axis=0))\n",
        "print(\"Row Sum : \", rand_2.sum(axis=1))"
      ],
      "metadata": {
        "colab": {
          "base_uri": "https://localhost:8080/"
        },
        "id": "xgdLMUy5cxFW",
        "outputId": "78fc3f3e-4551-4be4-a959-8d00fbc48d02"
      },
      "execution_count": null,
      "outputs": [
        {
          "output_type": "stream",
          "name": "stdout",
          "text": [
            "Total Sum : 5111\n",
            "Column Sum :  [ 821  705  196 1723 1666]\n",
            "Row Sum :  [2513 2598]\n"
          ]
        }
      ]
    },
    {
      "cell_type": "code",
      "source": [
        "# 2-2\n",
        "print(\"Total Mean :\", rand_2.mean())\n",
        "print(\"Column Mean : \", rand_2.mean(axis=0))\n",
        "print(\"Row Mean : \", rand_2.mean(axis=1))"
      ],
      "metadata": {
        "colab": {
          "base_uri": "https://localhost:8080/"
        },
        "id": "-vLS1Pd5dq46",
        "outputId": "1e208b87-1267-45f4-8d69-92ec0c6f2dd8"
      },
      "execution_count": null,
      "outputs": [
        {
          "output_type": "stream",
          "name": "stdout",
          "text": [
            "Total Mean : 511.1\n",
            "Column Mean :  [410.5 352.5  98.  861.5 833. ]\n",
            "Row Mean :  [502.6 519.6]\n"
          ]
        }
      ]
    },
    {
      "cell_type": "code",
      "source": [
        "# 3\n",
        "rand_5 = np.random.normal(loc=5, scale=1, size=5)\n",
        "rand_10 = np.random.normal(loc=5, scale=1, size=10)\n",
        "rand_100 = np.random.normal(loc=5, scale=1, size=100)\n",
        "rand_1000 = np.random.normal(loc=5, scale=1, size=1000)"
      ],
      "metadata": {
        "id": "XqPrujw4d6rB"
      },
      "execution_count": null,
      "outputs": []
    },
    {
      "cell_type": "code",
      "source": [
        "# 3-1\n",
        "print(f\"5개 평균 - 5 = {rand_5.mean() - 5}\")\n",
        "print(f\"10개 평균 - 5 = {rand_10.mean() - 5}\")\n",
        "print(f\"100개 평균 - 5 = {rand_100.mean() - 5}\")\n",
        "print(f\"1000개 평균 - 5 = {rand_1000.mean() - 5}\")"
      ],
      "metadata": {
        "colab": {
          "base_uri": "https://localhost:8080/"
        },
        "id": "vvadl02gqitR",
        "outputId": "5220f7fd-0a43-4670-eb66-592abcd5977a"
      },
      "execution_count": null,
      "outputs": [
        {
          "output_type": "stream",
          "name": "stdout",
          "text": [
            "5개 평균 - 5 = 0.6451525908550568\n",
            "10개 평균 - 5 = 0.28863641148774466\n",
            "100개 평균 - 5 = -0.0032152879446902816\n",
            "1000개 평균 - 5 = 0.07789771841019011\n"
          ]
        }
      ]
    },
    {
      "cell_type": "code",
      "source": [
        "# 3-2\n",
        "print(f\"5개 표준편차 - 1 = {rand_5.std() - 1}\")\n",
        "print(f\"10개 표준편차 - 1 = {rand_10.std() - 1}\")\n",
        "print(f\"100개 표준편차 - 1 = {rand_100.std() - 1}\")\n",
        "print(f\"1000개 표준편차 - 1 = {rand_1000.std() - 1}\")"
      ],
      "metadata": {
        "colab": {
          "base_uri": "https://localhost:8080/"
        },
        "id": "HzE-dOVvq718",
        "outputId": "d21ecdd0-60dd-4490-e86f-d134e8e0de3c"
      },
      "execution_count": null,
      "outputs": [
        {
          "output_type": "stream",
          "name": "stdout",
          "text": [
            "5개 표준편차 - 1 = -0.30774605950622125\n",
            "10개 표준편차 - 1 = -0.1470029698084061\n",
            "100개 표준편차 - 1 = 0.07199559393238775\n",
            "1000개 표준편차 - 1 = -0.021155577826070027\n"
          ]
        }
      ]
    },
    {
      "cell_type": "code",
      "source": [
        "# 4\n",
        "import time # 시간을 측정하기 위한 라이브러리\n",
        "\n",
        "N = 300\n",
        "rmatrix_a = np.array(np.random.rand(N, N))\n",
        "rmatrix_b = np.array(np.random.rand(N, N))\n",
        "matrix_z = np.zeros((N, N))"
      ],
      "metadata": {
        "id": "yDbUv7DbrN8d"
      },
      "execution_count": null,
      "outputs": []
    },
    {
      "cell_type": "code",
      "source": [
        "# 4-1\n",
        "start = time.time()\n",
        "\n",
        "for i in range(N):\n",
        "  for j in range(N):\n",
        "    for t in range(N):\n",
        "      matrix_z[i][j] += rmatrix_a[i][t] * rmatrix_b[t][i]\n",
        "\n",
        "print(\"걸린 시간 : %.2f\" % float(time.time() - start))"
      ],
      "metadata": {
        "colab": {
          "base_uri": "https://localhost:8080/"
        },
        "id": "u1siLer2t0Ek",
        "outputId": "b59dbdf4-26b7-48ae-8353-1e44e2023fa3"
      },
      "execution_count": null,
      "outputs": [
        {
          "output_type": "stream",
          "name": "stdout",
          "text": [
            "걸린 시간 : 30.38\n"
          ]
        }
      ]
    },
    {
      "cell_type": "code",
      "source": [
        "# 4-2 numpy 사용\n",
        "start = time.time()\n",
        "matrix_z = np.dot(rmatrix_a, rmatrix_b)\n",
        "\n",
        "print(\"걸린 시간 : %.2f\" % float(time.time() - start))"
      ],
      "metadata": {
        "colab": {
          "base_uri": "https://localhost:8080/"
        },
        "id": "1x3lwBSvvF6n",
        "outputId": "88eb6fac-724b-4852-fd64-9abb908d10b3"
      },
      "execution_count": null,
      "outputs": [
        {
          "output_type": "stream",
          "name": "stdout",
          "text": [
            "걸린 시간 : 0.01\n"
          ]
        }
      ]
    },
    {
      "cell_type": "code",
      "source": [
        "# 5\n",
        "arr = np.arange(0, 10, 1)\n",
        "lin = np.linspace(0, 10, 11)"
      ],
      "metadata": {
        "id": "bgoJD3uX2Msj"
      },
      "execution_count": null,
      "outputs": []
    },
    {
      "cell_type": "code",
      "source": [
        "# 5-1\n",
        "print(arr)\n",
        "print(lin)"
      ],
      "metadata": {
        "colab": {
          "base_uri": "https://localhost:8080/"
        },
        "id": "wqy2s0JF2bIv",
        "outputId": "f4003222-4eeb-471c-aa13-8cb171cf9be2"
      },
      "execution_count": null,
      "outputs": [
        {
          "output_type": "stream",
          "name": "stdout",
          "text": [
            "[0 1 2 3 4 5 6 7 8 9]\n",
            "[ 0.  1.  2.  3.  4.  5.  6.  7.  8.  9. 10.]\n"
          ]
        }
      ]
    },
    {
      "cell_type": "code",
      "source": [
        "# 6\n",
        "print(np.eye(3, 3, 1))\n",
        "print(np.eye(3, 3, -1))"
      ],
      "metadata": {
        "colab": {
          "base_uri": "https://localhost:8080/"
        },
        "id": "vI-It9ve2t5Q",
        "outputId": "42a7fd27-b625-4e4d-c778-a7af0bd4b3ee"
      },
      "execution_count": null,
      "outputs": [
        {
          "output_type": "stream",
          "name": "stdout",
          "text": [
            "[[0. 1. 0.]\n",
            " [0. 0. 1.]\n",
            " [0. 0. 0.]]\n",
            "[[0. 0. 0.]\n",
            " [1. 0. 0.]\n",
            " [0. 1. 0.]]\n"
          ]
        }
      ]
    },
    {
      "cell_type": "code",
      "source": [
        "# 7\n",
        "# numpy.diag 에 1차원 벡터를 인자로 입력하면, 해당 벡터를 대각행렬로 가지는 2nd matrix 생성\n",
        "diag = np.arange(0, 20, 5)\n",
        "np.diag(diag)"
      ],
      "metadata": {
        "colab": {
          "base_uri": "https://localhost:8080/"
        },
        "id": "0WlCzPKm28WR",
        "outputId": "de7afaad-81bd-4f36-e9f3-10c58a4bd4bf"
      },
      "execution_count": null,
      "outputs": [
        {
          "output_type": "execute_result",
          "data": {
            "text/plain": [
              "array([[ 0,  0,  0,  0],\n",
              "       [ 0,  5,  0,  0],\n",
              "       [ 0,  0, 10,  0],\n",
              "       [ 0,  0,  0, 15]])"
            ]
          },
          "metadata": {},
          "execution_count": 26
        }
      ]
    },
    {
      "cell_type": "code",
      "source": [
        "# 8\n",
        "A = np.arange(1, 5, 1).reshape(2, -1)\n",
        "B = np.arange(5, 9, 1).reshape(2, -1)\n",
        "\n",
        "print(A)\n",
        "print(B)"
      ],
      "metadata": {
        "colab": {
          "base_uri": "https://localhost:8080/"
        },
        "id": "6G2AOBsu3_ON",
        "outputId": "06883dc2-dcde-4617-b517-f3faa6be661d"
      },
      "execution_count": null,
      "outputs": [
        {
          "output_type": "stream",
          "name": "stdout",
          "text": [
            "[[1 2]\n",
            " [3 4]]\n",
            "[[5 6]\n",
            " [7 8]]\n"
          ]
        }
      ]
    },
    {
      "cell_type": "code",
      "source": [
        "# 8-1\n",
        "print(\"dot 결과\")\n",
        "print(np.dot(A, B))\n",
        "print(\"\\n\\ninner 결과\")\n",
        "print(np.inner(A, B))"
      ],
      "metadata": {
        "colab": {
          "base_uri": "https://localhost:8080/"
        },
        "id": "2VsvfIGhQM1Q",
        "outputId": "028d77b4-b1e1-4267-82a9-8cc01f1addc1"
      },
      "execution_count": null,
      "outputs": [
        {
          "output_type": "stream",
          "name": "stdout",
          "text": [
            "dot 결과\n",
            "[[19 22]\n",
            " [43 50]]\n",
            "\n",
            "\n",
            "inner 결과\n",
            "[[17 23]\n",
            " [39 53]]\n"
          ]
        }
      ]
    },
    {
      "cell_type": "code",
      "source": [
        "# 8-2\n",
        "print(\"A.dot(B)\")\n",
        "print(A.dot(B))\n",
        "\n",
        "print(\"np.dot(A, B)\")\n",
        "print(np.dot(A, B))\n",
        "\n",
        "print(\"np.mat(A) * np.mat(B)\")\n",
        "print(np.mat(A) * np.mat(B))\n",
        "\n",
        "print(\"np.matmul(A, B)\")\n",
        "print(np.matmul(A, B))"
      ],
      "metadata": {
        "colab": {
          "base_uri": "https://localhost:8080/"
        },
        "id": "m4f5RMdeQwTi",
        "outputId": "d9e06a12-e0b3-45f0-e206-eae3fe8191a5"
      },
      "execution_count": null,
      "outputs": [
        {
          "output_type": "stream",
          "name": "stdout",
          "text": [
            "A.dot(B)\n",
            "[[19 22]\n",
            " [43 50]]\n",
            "np.dot(A, B)\n",
            "[[19 22]\n",
            " [43 50]]\n",
            "np.mat(A) * np.mat(B)\n",
            "[[19 22]\n",
            " [43 50]]\n",
            "np.matmul(A, B)\n",
            "[[19 22]\n",
            " [43 50]]\n"
          ]
        }
      ]
    },
    {
      "cell_type": "code",
      "source": [
        "# 9\n",
        "matrix_3x3 = np.arange(3*3).reshape(3, -1)\n",
        "matrix_3x4 = np.arange(3*4).reshape(3, -1)\n",
        "\n",
        "print(matrix_3x3)\n",
        "print(matrix_3x4)\n",
        "\n",
        "print(\"\\n\\n곱 연산\")\n",
        "print(np.matmul(matrix_3x3, matrix_3x4))"
      ],
      "metadata": {
        "colab": {
          "base_uri": "https://localhost:8080/"
        },
        "id": "UK00aVhVRHaC",
        "outputId": "63d12061-e645-473f-8b20-bcdd752fc7ab"
      },
      "execution_count": null,
      "outputs": [
        {
          "output_type": "stream",
          "name": "stdout",
          "text": [
            "[[0 1 2]\n",
            " [3 4 5]\n",
            " [6 7 8]]\n",
            "[[ 0  1  2  3]\n",
            " [ 4  5  6  7]\n",
            " [ 8  9 10 11]]\n",
            "\n",
            "\n",
            "곱 연산\n",
            "[[ 20  23  26  29]\n",
            " [ 56  68  80  92]\n",
            " [ 92 113 134 155]]\n"
          ]
        }
      ]
    },
    {
      "cell_type": "code",
      "source": [
        "# 10\n",
        "tran = np.arange(3*4).reshape(3, -1)\n",
        "print(\"전치 전\", tran)\n",
        "print(\"전치 후\", np.transpose(tran))"
      ],
      "metadata": {
        "colab": {
          "base_uri": "https://localhost:8080/"
        },
        "id": "GZkA6q4IRnmH",
        "outputId": "cb7b6a7e-370f-4537-8864-d4e646ecc699"
      },
      "execution_count": null,
      "outputs": [
        {
          "output_type": "stream",
          "name": "stdout",
          "text": [
            "전치 전 [[ 0  1  2  3]\n",
            " [ 4  5  6  7]\n",
            " [ 8  9 10 11]]\n",
            "전치 후 [[ 0  4  8]\n",
            " [ 1  5  9]\n",
            " [ 2  6 10]\n",
            " [ 3  7 11]]\n"
          ]
        }
      ]
    },
    {
      "cell_type": "code",
      "source": [
        "# 11\n",
        "import numpy.linalg as la"
      ],
      "metadata": {
        "id": "FjzaiRgbSD6N"
      },
      "execution_count": null,
      "outputs": []
    },
    {
      "cell_type": "code",
      "source": [
        "C = np.array([[6, 2], [9, 1]])\n",
        "D = np.array([[2, 1, 1], [6, 8, 1], [2, 2, 6]])\n",
        "\n",
        "print(la.det(C))\n",
        "print(la.det(D))"
      ],
      "metadata": {
        "colab": {
          "base_uri": "https://localhost:8080/"
        },
        "id": "G-lr6QBgSWtK",
        "outputId": "d67808ad-fdc6-4fc4-d2ef-c2ec78d55fa1"
      },
      "execution_count": null,
      "outputs": [
        {
          "output_type": "stream",
          "name": "stdout",
          "text": [
            "-12.000000000000005\n",
            "54.00000000000001\n"
          ]
        }
      ]
    },
    {
      "cell_type": "code",
      "source": [
        "# 12\n",
        "print(la.inv(C))\n",
        "print(la.inv(D))"
      ],
      "metadata": {
        "colab": {
          "base_uri": "https://localhost:8080/"
        },
        "id": "Han_mi1TSsJT",
        "outputId": "14a5d4a1-60d1-4107-9f12-98dffc6183b7"
      },
      "execution_count": null,
      "outputs": [
        {
          "output_type": "stream",
          "name": "stdout",
          "text": [
            "[[-0.08333333  0.16666667]\n",
            " [ 0.75       -0.5       ]]\n",
            "[[ 0.85185185 -0.07407407 -0.12962963]\n",
            " [-0.62962963  0.18518519  0.07407407]\n",
            " [-0.07407407 -0.03703704  0.18518519]]\n"
          ]
        }
      ]
    },
    {
      "cell_type": "code",
      "source": [
        "# 13\n",
        "print(la.eig(C)[0])"
      ],
      "metadata": {
        "colab": {
          "base_uri": "https://localhost:8080/"
        },
        "id": "C81PYFwDTDwa",
        "outputId": "eb246c08-c63f-4832-8767-f0f135758c82"
      },
      "execution_count": null,
      "outputs": [
        {
          "output_type": "stream",
          "name": "stdout",
          "text": [
            "[ 8.4244289 -1.4244289]\n"
          ]
        }
      ]
    },
    {
      "cell_type": "code",
      "source": [
        "# 14\n",
        "# 2x + y = 9\n",
        "# 7x + 3y = 41\n",
        "li_X = np.array([[2, 1], [7, 3]])\n",
        "li_Y = np.array([9, 41]).reshape(2, -1)\n",
        "\n",
        "# 14-1\n",
        "print(np.matmul(la.inv(li_X), li_Y))\n",
        "\n",
        "# 14-2\n",
        "print(np.linalg.solve(li_X, li_Y))"
      ],
      "metadata": {
        "colab": {
          "base_uri": "https://localhost:8080/"
        },
        "id": "uxZPslx_TLhd",
        "outputId": "7ba92a56-43e0-4ff0-ceff-769285f232b4"
      },
      "execution_count": null,
      "outputs": [
        {
          "output_type": "stream",
          "name": "stdout",
          "text": [
            "[[ 14.]\n",
            " [-19.]]\n",
            "[[ 14.]\n",
            " [-19.]]\n"
          ]
        }
      ]
    },
    {
      "cell_type": "code",
      "source": [
        "# 15\n",
        "from numpy.linalg import LinAlgError\n",
        "\n",
        "def isSingularMatrix(m):\n",
        "  print(\"인자로 들어온 행렬 = \")\n",
        "  print(np.array(m))\n",
        "\n",
        "  try:\n",
        "    np.linalg.inv(m)\n",
        "  except LinAlgError as e:\n",
        "    print(\"특이행렬입니다.\")\n",
        "  else:\n",
        "    print(\"특이행렬이 아닙니다.\")\n",
        "  print()"
      ],
      "metadata": {
        "id": "_AL0OY1kT3oo"
      },
      "execution_count": null,
      "outputs": []
    },
    {
      "cell_type": "code",
      "source": [
        "# 15-1\n",
        "isSingularMatrix([[0, 0], [0, 0]])"
      ],
      "metadata": {
        "colab": {
          "base_uri": "https://localhost:8080/"
        },
        "id": "BX1wDi8jUR8c",
        "outputId": "634f27a4-79c4-444a-8dc6-942a95ba374c"
      },
      "execution_count": null,
      "outputs": [
        {
          "output_type": "stream",
          "name": "stdout",
          "text": [
            "인자로 들어온 행렬 = \n",
            "[[0 0]\n",
            " [0 0]]\n",
            "특이행렬입니다.\n",
            "\n"
          ]
        }
      ]
    },
    {
      "cell_type": "code",
      "source": [
        "# 15-2\n",
        "isSingularMatrix(np.eye(4))"
      ],
      "metadata": {
        "colab": {
          "base_uri": "https://localhost:8080/"
        },
        "id": "22JVgEUKUYdj",
        "outputId": "f47f1d29-e331-4927-cae8-bb7d30732ba3"
      },
      "execution_count": null,
      "outputs": [
        {
          "output_type": "stream",
          "name": "stdout",
          "text": [
            "인자로 들어온 행렬 = \n",
            "[[1. 0. 0. 0.]\n",
            " [0. 1. 0. 0.]\n",
            " [0. 0. 1. 0.]\n",
            " [0. 0. 0. 1.]]\n",
            "특이행렬이 아닙니다.\n",
            "\n"
          ]
        }
      ]
    },
    {
      "cell_type": "code",
      "source": [
        "# 15-3\n",
        "for i in range(5):\n",
        "  isSingularMatrix(np.random.randn(3, 3))"
      ],
      "metadata": {
        "colab": {
          "base_uri": "https://localhost:8080/"
        },
        "id": "Ek7pHCt-Ucw5",
        "outputId": "a97a2cc8-244f-440f-d9fb-f5d188501441"
      },
      "execution_count": null,
      "outputs": [
        {
          "output_type": "stream",
          "name": "stdout",
          "text": [
            "인자로 들어온 행렬 = \n",
            "[[ 1.03855963  0.94743409 -0.0293222 ]\n",
            " [-0.56260128 -0.11335695 -0.55383533]\n",
            " [ 0.24750387 -0.0724073  -0.60458386]]\n",
            "특이행렬이 아닙니다.\n",
            "\n",
            "인자로 들어온 행렬 = \n",
            "[[-0.08911231  0.30325176 -0.50596735]\n",
            " [-1.27043107  0.87584433  0.03620236]\n",
            " [ 1.06534526  0.16372723 -1.35187034]]\n",
            "특이행렬이 아닙니다.\n",
            "\n",
            "인자로 들어온 행렬 = \n",
            "[[-0.08379286 -1.3402367  -0.49686311]\n",
            " [-1.20363494 -1.19225124  0.51464571]\n",
            " [-1.09794101 -0.74282857 -0.46451035]]\n",
            "특이행렬이 아닙니다.\n",
            "\n",
            "인자로 들어온 행렬 = \n",
            "[[ 0.82301896  0.54774821 -0.21796876]\n",
            " [-0.14698689  0.92579169  0.1548672 ]\n",
            " [ 0.03849351 -1.10523325 -0.95132297]]\n",
            "특이행렬이 아닙니다.\n",
            "\n",
            "인자로 들어온 행렬 = \n",
            "[[ 1.86202963  0.26798236 -0.58206437]\n",
            " [ 0.7143465   0.6986614  -1.07913542]\n",
            " [ 0.83057547  0.67869446 -1.84892834]]\n",
            "특이행렬이 아닙니다.\n",
            "\n"
          ]
        }
      ]
    }
  ]
}