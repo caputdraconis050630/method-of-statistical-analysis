{
  "nbformat": 4,
  "nbformat_minor": 0,
  "metadata": {
    "colab": {
      "provenance": []
    },
    "kernelspec": {
      "name": "python3",
      "display_name": "Python 3"
    },
    "language_info": {
      "name": "python"
    }
  },
  "cells": [
    {
      "cell_type": "markdown",
      "source": [
        "- 2주차 실습\n",
        "- 작성자 : 김건탁"
      ],
      "metadata": {
        "id": "2hNFXsCZ0gJR"
      }
    },
    {
      "cell_type": "code",
      "execution_count": null,
      "metadata": {
        "colab": {
          "base_uri": "https://localhost:8080/"
        },
        "id": "IxVERPVCXvsZ",
        "outputId": "d94fe06f-e1ec-486c-fad7-a8972b94bab5"
      },
      "outputs": [
        {
          "output_type": "stream",
          "name": "stdout",
          "text": [
            "Hello world\n"
          ]
        }
      ],
      "source": [
        "# 1\n",
        "print(\"Hello world\")"
      ]
    },
    {
      "cell_type": "code",
      "source": [
        "# 2\n",
        "print(\"통계분석방법 수강생 정말 정말 반갑습니다\")"
      ],
      "metadata": {
        "colab": {
          "base_uri": "https://localhost:8080/"
        },
        "id": "Cv_NCsvK17lu",
        "outputId": "9ddb166f-eb92-41d3-fddb-1831358a89a2"
      },
      "execution_count": null,
      "outputs": [
        {
          "output_type": "stream",
          "name": "stdout",
          "text": [
            "통계분석방법 수강생 정말 정말 반갑습니다\n"
          ]
        }
      ]
    },
    {
      "cell_type": "code",
      "source": [
        "# 3\n",
        "print(1)\n",
        "print(5)"
      ],
      "metadata": {
        "colab": {
          "base_uri": "https://localhost:8080/"
        },
        "id": "IJv3pWki1_Ox",
        "outputId": "0cad7579-6da8-4665-da6c-121d04849eca"
      },
      "execution_count": null,
      "outputs": [
        {
          "output_type": "stream",
          "name": "stdout",
          "text": [
            "1\n",
            "5\n"
          ]
        }
      ]
    },
    {
      "cell_type": "code",
      "source": [
        "# 4\n",
        "s = \"안녕하세요\"\n",
        "print(s[0])\n",
        "print(len(s))"
      ],
      "metadata": {
        "colab": {
          "base_uri": "https://localhost:8080/"
        },
        "id": "VwKI1ZVJ2HzP",
        "outputId": "32205b05-b7d2-4766-c2f1-e3faf28f7e9a"
      },
      "execution_count": null,
      "outputs": [
        {
          "output_type": "stream",
          "name": "stdout",
          "text": [
            "안\n",
            "5\n"
          ]
        }
      ]
    },
    {
      "cell_type": "code",
      "source": [
        "# 5\n",
        "n1 = int(input(\"첫번째 정수를 입력하세요 > \"))\n",
        "n2 = int(input(\"두번째 정수를 입력하세요 > \"))\n",
        "\n",
        "print(\"두 정수의 합 : \", n1+n2)"
      ],
      "metadata": {
        "colab": {
          "base_uri": "https://localhost:8080/"
        },
        "id": "VwBcsM9V2mj_",
        "outputId": "a7dc908f-9c1e-48f4-b9c3-1ee532ef1348"
      },
      "execution_count": null,
      "outputs": [
        {
          "output_type": "stream",
          "name": "stdout",
          "text": [
            "첫번째 정수를 입력하세요 > 5\n",
            "두번째 정수를 입력하세요 > 7\n",
            "두 정수의 합 :  12\n"
          ]
        }
      ]
    },
    {
      "cell_type": "code",
      "source": [
        "# 6\n",
        "List_1 = ['apple', 100, 'banana']\n",
        "print(\"List_1 =\", List_1)"
      ],
      "metadata": {
        "colab": {
          "base_uri": "https://localhost:8080/"
        },
        "id": "0MTUqOv03UYp",
        "outputId": "48d10ce5-05ac-4c1a-b3a0-53a9defe2b56"
      },
      "execution_count": null,
      "outputs": [
        {
          "output_type": "stream",
          "name": "stdout",
          "text": [
            "List_1 = ['apple', 100, 'banana']\n"
          ]
        }
      ]
    },
    {
      "cell_type": "code",
      "source": [
        "# 7 \n",
        "a = [1, 2, 3, 4, 5]\n",
        "\n",
        "# 7-1\n",
        "a.append(6)\n",
        "\n",
        "# 7-2\n",
        "a += [6, 7, 8]\n",
        "\n",
        "# 7-3\n",
        "a.append([9, 10])\n",
        "\n",
        "# 7-4\n",
        "a.pop()\n",
        "\n",
        "# 7-5\n",
        "a.remove(8)\n",
        "\n",
        "print(a)"
      ],
      "metadata": {
        "colab": {
          "base_uri": "https://localhost:8080/"
        },
        "id": "oML9XmWu3fwR",
        "outputId": "7b043532-af59-4e19-9056-a2cd1f1f6b03"
      },
      "execution_count": null,
      "outputs": [
        {
          "output_type": "stream",
          "name": "stdout",
          "text": [
            "[1, 2, 3, 4, 5, 6, 6, 7]\n"
          ]
        }
      ]
    },
    {
      "cell_type": "code",
      "source": [
        "# 8\n",
        "score = int(input(\"점수를 입력하세요 > \"))\n",
        "\n",
        "print(\"pass\") if score >= 80 else print(\"fail\")"
      ],
      "metadata": {
        "colab": {
          "base_uri": "https://localhost:8080/"
        },
        "id": "N_s9j7o34QN3",
        "outputId": "c40ff950-a900-4543-a79c-c675c1c1668f"
      },
      "execution_count": null,
      "outputs": [
        {
          "output_type": "stream",
          "name": "stdout",
          "text": [
            "점수를 입력하세요 > 70\n",
            "fail\n"
          ]
        }
      ]
    },
    {
      "cell_type": "code",
      "source": [
        "# 9\n",
        "score = int(input(\"0~100 사이의 점수를 입력하세요 > \"))\n",
        "\n",
        "if score >= 90:\n",
        "  print(\"A 학점입니다.\")\n",
        "elif score >= 80:\n",
        "  print(\"B 학점입니다.\")\n",
        "elif score >= 70:\n",
        "  print(\"C 학점입니다.\") \n",
        "elif score >= 60:\n",
        "  print(\"D 학점입니다.\")\n",
        "else:\n",
        "  print(\"F 학점입니다.\")"
      ],
      "metadata": {
        "colab": {
          "base_uri": "https://localhost:8080/"
        },
        "id": "rMhY0rPz4pu8",
        "outputId": "15f9b68b-c6d4-4bf2-960c-7b19396ec327"
      },
      "execution_count": null,
      "outputs": [
        {
          "output_type": "stream",
          "name": "stdout",
          "text": [
            "0~100 사이의 점수를 입력하세요 > 80\n",
            "B 학점입니다.\n"
          ]
        }
      ]
    },
    {
      "cell_type": "code",
      "source": [
        "# 10\n",
        "n = 100\n",
        "while (n > 0):\n",
        "  n -= 10\n",
        "  print(n)"
      ],
      "metadata": {
        "colab": {
          "base_uri": "https://localhost:8080/"
        },
        "id": "HlaQAveA5QBg",
        "outputId": "2fc02554-6cd7-457b-a8f0-8f937c1fcc06"
      },
      "execution_count": null,
      "outputs": [
        {
          "output_type": "stream",
          "name": "stdout",
          "text": [
            "90\n",
            "80\n",
            "70\n",
            "60\n",
            "50\n",
            "40\n",
            "30\n",
            "20\n",
            "10\n",
            "0\n"
          ]
        }
      ]
    },
    {
      "cell_type": "code",
      "source": [
        "# 11\n",
        "for i in range(11):\n",
        "  print(i)"
      ],
      "metadata": {
        "colab": {
          "base_uri": "https://localhost:8080/"
        },
        "id": "FAVcCs4b6BHv",
        "outputId": "9e9ccdb7-116e-4a86-c80d-71557bdb942c"
      },
      "execution_count": null,
      "outputs": [
        {
          "output_type": "stream",
          "name": "stdout",
          "text": [
            "0\n",
            "1\n",
            "2\n",
            "3\n",
            "4\n",
            "5\n",
            "6\n",
            "7\n",
            "8\n",
            "9\n",
            "10\n"
          ]
        }
      ]
    },
    {
      "cell_type": "code",
      "source": [
        "# 12\n",
        "a = ['save', 'shade', 'upright', 'amid', 'so', 'tweet', 'modern', 'meter', 'dresser', 'gosh']\n",
        "\n",
        "# 12-1\n",
        "for elem in a:\n",
        "  print(elem)\n",
        "\n",
        "\n",
        "print(\"----------------------------\")\n",
        "\n",
        "# 12-2\n",
        "for elem in a:\n",
        "  if elem.startswith('s'):\n",
        "    print(elem)"
      ],
      "metadata": {
        "colab": {
          "base_uri": "https://localhost:8080/"
        },
        "id": "56kz639v6Zqn",
        "outputId": "3c9fa08f-c998-4575-a2e7-499c9c5e8afa"
      },
      "execution_count": null,
      "outputs": [
        {
          "output_type": "stream",
          "name": "stdout",
          "text": [
            "save\n",
            "shade\n",
            "upright\n",
            "amid\n",
            "so\n",
            "tweet\n",
            "modern\n",
            "meter\n",
            "dresser\n",
            "gosh\n",
            "----------------------------\n",
            "save\n",
            "shade\n",
            "so\n"
          ]
        }
      ]
    },
    {
      "cell_type": "code",
      "source": [
        "# 13\n",
        "def udAvg(l):\n",
        "  sum = 0.0\n",
        "  for i in l:\n",
        "    sum += i\n",
        "  return sum / len(l)\n",
        "\n",
        "# 13-1\n",
        "a_list = [3, 4, 5, 6, 10]\n",
        "print(udAvg(a_list))\n"
      ],
      "metadata": {
        "colab": {
          "base_uri": "https://localhost:8080/"
        },
        "id": "M5A-8A-z65uN",
        "outputId": "1269871d-427c-4512-fad3-f5d9bee34bae"
      },
      "execution_count": null,
      "outputs": [
        {
          "output_type": "stream",
          "name": "stdout",
          "text": [
            "5.6\n"
          ]
        }
      ]
    },
    {
      "cell_type": "code",
      "source": [
        "# 13-2\n",
        "b_list = []\n",
        "print(udAvg(b_list))"
      ],
      "metadata": {
        "colab": {
          "base_uri": "https://localhost:8080/",
          "height": 329
        },
        "id": "nXdrgseR7d6m",
        "outputId": "83bf324e-f220-47b0-e168-098489e32a0e"
      },
      "execution_count": null,
      "outputs": [
        {
          "output_type": "error",
          "ename": "ZeroDivisionError",
          "evalue": "ignored",
          "traceback": [
            "\u001b[0;31m---------------------------------------------------------------------------\u001b[0m",
            "\u001b[0;31mZeroDivisionError\u001b[0m                         Traceback (most recent call last)",
            "\u001b[0;32m<ipython-input-22-7200f3a6d118>\u001b[0m in \u001b[0;36m<cell line: 3>\u001b[0;34m()\u001b[0m\n\u001b[1;32m      1\u001b[0m \u001b[0;31m# 13-2\u001b[0m\u001b[0;34m\u001b[0m\u001b[0;34m\u001b[0m\u001b[0m\n\u001b[1;32m      2\u001b[0m \u001b[0mb_list\u001b[0m \u001b[0;34m=\u001b[0m \u001b[0;34m[\u001b[0m\u001b[0;34m]\u001b[0m\u001b[0;34m\u001b[0m\u001b[0;34m\u001b[0m\u001b[0m\n\u001b[0;32m----> 3\u001b[0;31m \u001b[0mprint\u001b[0m\u001b[0;34m(\u001b[0m\u001b[0mudAvg\u001b[0m\u001b[0;34m(\u001b[0m\u001b[0mb_list\u001b[0m\u001b[0;34m)\u001b[0m\u001b[0;34m)\u001b[0m\u001b[0;34m\u001b[0m\u001b[0;34m\u001b[0m\u001b[0m\n\u001b[0m",
            "\u001b[0;32m<ipython-input-21-4b9fc25e158f>\u001b[0m in \u001b[0;36mudAvg\u001b[0;34m(l)\u001b[0m\n\u001b[1;32m      4\u001b[0m   \u001b[0;32mfor\u001b[0m \u001b[0mi\u001b[0m \u001b[0;32min\u001b[0m \u001b[0ml\u001b[0m\u001b[0;34m:\u001b[0m\u001b[0;34m\u001b[0m\u001b[0;34m\u001b[0m\u001b[0m\n\u001b[1;32m      5\u001b[0m     \u001b[0msum\u001b[0m \u001b[0;34m+=\u001b[0m \u001b[0mi\u001b[0m\u001b[0;34m\u001b[0m\u001b[0;34m\u001b[0m\u001b[0m\n\u001b[0;32m----> 6\u001b[0;31m   \u001b[0;32mreturn\u001b[0m \u001b[0msum\u001b[0m \u001b[0;34m/\u001b[0m \u001b[0mlen\u001b[0m\u001b[0;34m(\u001b[0m\u001b[0ml\u001b[0m\u001b[0;34m)\u001b[0m\u001b[0;34m\u001b[0m\u001b[0;34m\u001b[0m\u001b[0m\n\u001b[0m\u001b[1;32m      7\u001b[0m \u001b[0;34m\u001b[0m\u001b[0m\n\u001b[1;32m      8\u001b[0m \u001b[0;31m# 13-1\u001b[0m\u001b[0;34m\u001b[0m\u001b[0;34m\u001b[0m\u001b[0m\n",
            "\u001b[0;31mZeroDivisionError\u001b[0m: float division by zero"
          ]
        }
      ]
    },
    {
      "cell_type": "code",
      "source": [
        "# 14\n",
        "def upgradedUdAvg(l):\n",
        "  if len(l) == 0:\n",
        "    return None\n",
        "  sum = 0.0\n",
        "  for i in l:\n",
        "    sum += i\n",
        "  return sum / len(l)\n",
        "\n",
        "# 14-1\n",
        "print(upgradedUdAvg(a_list))\n",
        "# 14-2\n",
        "print(upgradedUdAvg(b_list))\n"
      ],
      "metadata": {
        "colab": {
          "base_uri": "https://localhost:8080/"
        },
        "id": "FPGVhcf47gVU",
        "outputId": "ec43637c-8fd2-48eb-fd24-e27932e83429"
      },
      "execution_count": null,
      "outputs": [
        {
          "output_type": "stream",
          "name": "stdout",
          "text": [
            "5.6\n",
            "None\n"
          ]
        }
      ]
    }
  ]
}